{
 "cells": [
  {
   "cell_type": "markdown",
   "metadata": {},
   "source": [
    "## About this Notebook\n",
    "\n",
    "In this kernel, I work on the Health Authority feedback dataset and trying to predict sentiments from the feedbacks. \n",
    "\n"
   ]
  },
  {
   "cell_type": "code",
   "execution_count": 147,
   "metadata": {},
   "outputs": [],
   "source": [
    "# python libraries to read & plot data\n",
    "import pandas as pd\n",
    "import numpy as np\n",
    "import string\n",
    "import pickle\n",
    "import matplotlib.pyplot as plt\n",
    "import seaborn as sns\n",
    "sns.set_style('darkgrid')\n",
    "\n",
    "# sklearn libraries for prediction and evaluation\n",
    "from sklearn import model_selection, preprocessing, metrics, svm\n",
    "from sklearn.linear_model import LogisticRegression,SGDClassifier\n",
    "from sklearn.ensemble import GradientBoostingClassifier,RandomForestClassifier\n",
    "from sklearn.feature_extraction.text import TfidfVectorizer,TfidfTransformer\n",
    "from sklearn.metrics import classification_report,confusion_matrix,accuracy_score,precision_score,recall_score,f1_score\n",
    "from sklearn.tree import DecisionTreeClassifier\n",
    "from sklearn.neighbors import KNeighborsClassifier\n",
    "from sklearn.pipeline import Pipeline\n",
    "from sklearn.naive_bayes import MultinomialNB\n",
    "from xgboost.sklearn import XGBClassifier\n",
    "\n",
    "# imblearn for balancing dataset\n",
    "from imblearn.under_sampling import RandomUnderSampler\n",
    "from imblearn.over_sampling import SMOTE, RandomOverSampler\n",
    "from imblearn.pipeline import Pipeline,make_pipeline\n",
    "\n",
    "# nltk for text processing\n",
    "import nltk as nltk\n",
    "from nltk.corpus import stopwords\n",
    "from nltk.stem import PorterStemmer, WordNetLemmatizer\n",
    "from bs4 import BeautifulSoup\n",
    "\n",
    "# Remove Special Charactors\n",
    "import re"
   ]
  },
  {
   "cell_type": "code",
   "execution_count": 2,
   "metadata": {},
   "outputs": [
    {
     "data": {
      "text/html": [
       "<div>\n",
       "<style scoped>\n",
       "    .dataframe tbody tr th:only-of-type {\n",
       "        vertical-align: middle;\n",
       "    }\n",
       "\n",
       "    .dataframe tbody tr th {\n",
       "        vertical-align: top;\n",
       "    }\n",
       "\n",
       "    .dataframe thead th {\n",
       "        text-align: right;\n",
       "    }\n",
       "</style>\n",
       "<table border=\"1\" class=\"dataframe\">\n",
       "  <thead>\n",
       "    <tr style=\"text-align: right;\">\n",
       "      <th></th>\n",
       "      <th>ID</th>\n",
       "      <th>Sentence</th>\n",
       "      <th>Positive</th>\n",
       "      <th>Negative</th>\n",
       "      <th>Neutral</th>\n",
       "    </tr>\n",
       "  </thead>\n",
       "  <tbody>\n",
       "    <tr>\n",
       "      <td>0</td>\n",
       "      <td>1</td>\n",
       "      <td>The results in 2nd line treatment show an ORR ...</td>\n",
       "      <td>1</td>\n",
       "      <td>0</td>\n",
       "      <td>0</td>\n",
       "    </tr>\n",
       "    <tr>\n",
       "      <td>1</td>\n",
       "      <td>2</td>\n",
       "      <td>The long duration of response and high durable...</td>\n",
       "      <td>1</td>\n",
       "      <td>0</td>\n",
       "      <td>0</td>\n",
       "    </tr>\n",
       "    <tr>\n",
       "      <td>2</td>\n",
       "      <td>3</td>\n",
       "      <td>The median OS time in the updated results exce...</td>\n",
       "      <td>0</td>\n",
       "      <td>0</td>\n",
       "      <td>1</td>\n",
       "    </tr>\n",
       "    <tr>\n",
       "      <td>3</td>\n",
       "      <td>4</td>\n",
       "      <td>Therefore, the clinical benefit in 2nd line tr...</td>\n",
       "      <td>1</td>\n",
       "      <td>0</td>\n",
       "      <td>0</td>\n",
       "    </tr>\n",
       "    <tr>\n",
       "      <td>4</td>\n",
       "      <td>5</td>\n",
       "      <td>The data provided in 1st line, although prelim...</td>\n",
       "      <td>1</td>\n",
       "      <td>0</td>\n",
       "      <td>0</td>\n",
       "    </tr>\n",
       "  </tbody>\n",
       "</table>\n",
       "</div>"
      ],
      "text/plain": [
       "   ID                                           Sentence  Positive  Negative  \\\n",
       "0   1  The results in 2nd line treatment show an ORR ...         1         0   \n",
       "1   2  The long duration of response and high durable...         1         0   \n",
       "2   3  The median OS time in the updated results exce...         0         0   \n",
       "3   4  Therefore, the clinical benefit in 2nd line tr...         1         0   \n",
       "4   5  The data provided in 1st line, although prelim...         1         0   \n",
       "\n",
       "   Neutral  \n",
       "0        0  \n",
       "1        0  \n",
       "2        1  \n",
       "3        0  \n",
       "4        0  "
      ]
     },
     "execution_count": 2,
     "metadata": {},
     "output_type": "execute_result"
    }
   ],
   "source": [
    "df = pd.read_excel(r\"C:\\Users\\kvbt565\\Documents\\Python Notebooks\\EPAR Usecase\\Assignment\\sentences_with_sentiment.xlsx\")\n",
    "df.head()"
   ]
  },
  {
   "cell_type": "code",
   "execution_count": 3,
   "metadata": {},
   "outputs": [
    {
     "name": "stdout",
     "output_type": "stream",
     "text": [
      "Total records in the the dataset:  266\n",
      "Single rating per sentence : True\n"
     ]
    }
   ],
   "source": [
    "print(\"Total records in the the dataset: \", len(df))\n",
    "print(\"Single rating per sentence :\", (df.iloc[:,2:5].sum(axis=1) == 1).all())"
   ]
  },
  {
   "cell_type": "code",
   "execution_count": 4,
   "metadata": {},
   "outputs": [
    {
     "name": "stdout",
     "output_type": "stream",
     "text": [
      "Positive:  60.150375939849624 %\n",
      "Neutral:  26.31578947368421 %\n",
      "Negative:  13.533834586466165 %\n"
     ]
    }
   ],
   "source": [
    "# Percentage of Positive/Negative/Neutral\n",
    "print(\"Positive: \", df.Positive.value_counts()[1]/len(df)*100,\"%\")\n",
    "print(\"Neutral: \", df.Neutral.value_counts()[1]/len(df)*100,\"%\")\n",
    "print(\"Negative: \", df.Negative.value_counts()[1]/len(df)*100,\"%\")"
   ]
  },
  {
   "cell_type": "code",
   "execution_count": 5,
   "metadata": {},
   "outputs": [
    {
     "data": {
      "image/png": "[encoded data removed]",
      "text/plain": [
       "<Figure size 576x288 with 1 Axes>"
      ]
     },
     "metadata": {
      "needs_background": "light"
     },
     "output_type": "display_data"
    }
   ],
   "source": [
    "colors = sns.color_palette('deep')\n",
    "\n",
    "plt.figure(figsize=(8,4), tight_layout=True)\n",
    "plt.bar(x=['Positive', 'Neutral','Negative'],\n",
    "        height=[df['Positive'].sum(),df['Neutral'].sum(),df['Negative'].sum()],\n",
    "        color=colors[:2])\n",
    "plt.title('Sentiment')\n",
    "plt.savefig('sentiment.png')\n",
    "plt.show()"
   ]
  },
  {
   "cell_type": "markdown",
   "metadata": {},
   "source": [
    "## Data Preprocessing"
   ]
  },
  {
   "cell_type": "code",
   "execution_count": 194,
   "metadata": {},
   "outputs": [],
   "source": [
    "feedback_data = df.copy()"
   ]
  },
  {
   "cell_type": "code",
   "execution_count": 195,
   "metadata": {},
   "outputs": [],
   "source": [
    "# Stemmer to update the root word\n",
    "#porter=PorterStemmer()\n",
    "lemmatizer = WordNetLemmatizer()\n",
    "\n",
    "# Stopwords except 'from'\n",
    "all_stopwords = stopwords.words('english')\n",
    "#all_stopwords.extend(['the' , 'to' , 'it' , 'i' , 't'])\n",
    "\n",
    "\n",
    "REPLACE_BY_SPACE_RE = re.compile('[/(){}\\[\\]\\|@,;]')\n",
    "BAD_SYMBOLS_RE = re.compile('[^0-9a-z #+_]')\n",
    "STOPWORDS = set(stopwords.words('english'))\n",
    "\n",
    "def clean_text(text):\n",
    "    \"\"\"\n",
    "        text: a string\n",
    "        \n",
    "        return: modified initial string\n",
    "    \"\"\"\n",
    "    text = BeautifulSoup(text, \"lxml\").text # HTML decoding\n",
    "    text = text.lower() # lowercase text\n",
    "    text = REPLACE_BY_SPACE_RE.sub(' ', text) # replace REPLACE_BY_SPACE_RE symbols by space in text\n",
    "    text = BAD_SYMBOLS_RE.sub('', text) # delete symbols which are in BAD_SYMBOLS_RE from text\n",
    "    text = ' '.join(word for word in text.split() if word not in STOPWORDS) # delete stopwords from text\n",
    "    text = ' '.join([lemmatizer.lemmatize(word,'v') for word in text.split()]) # Use lemmatizer to identify root word\n",
    "    return text"
   ]
  },
  {
   "cell_type": "code",
   "execution_count": 196,
   "metadata": {},
   "outputs": [],
   "source": [
    "feedback_data['Sentence'] = feedback_data['Sentence'].apply(clean_text)"
   ]
  },
  {
   "cell_type": "code",
   "execution_count": 198,
   "metadata": {
    "scrolled": true
   },
   "outputs": [
    {
     "data": {
      "text/html": [
       "<div>\n",
       "<style scoped>\n",
       "    .dataframe tbody tr th:only-of-type {\n",
       "        vertical-align: middle;\n",
       "    }\n",
       "\n",
       "    .dataframe tbody tr th {\n",
       "        vertical-align: top;\n",
       "    }\n",
       "\n",
       "    .dataframe thead th {\n",
       "        text-align: right;\n",
       "    }\n",
       "</style>\n",
       "<table border=\"1\" class=\"dataframe\">\n",
       "  <thead>\n",
       "    <tr style=\"text-align: right;\">\n",
       "      <th></th>\n",
       "      <th>ID</th>\n",
       "      <th>Sentence</th>\n",
       "      <th>Positive</th>\n",
       "      <th>Negative</th>\n",
       "      <th>Neutral</th>\n",
       "      <th>sentence_length</th>\n",
       "      <th>rating</th>\n",
       "    </tr>\n",
       "  </thead>\n",
       "  <tbody>\n",
       "    <tr>\n",
       "      <td>0</td>\n",
       "      <td>1</td>\n",
       "      <td>result 2nd line treatment show orr 33 patients...</td>\n",
       "      <td>1</td>\n",
       "      <td>0</td>\n",
       "      <td>0</td>\n",
       "      <td>133</td>\n",
       "      <td>0</td>\n",
       "    </tr>\n",
       "    <tr>\n",
       "      <td>1</td>\n",
       "      <td>2</td>\n",
       "      <td>long duration response high durable response r...</td>\n",
       "      <td>1</td>\n",
       "      <td>0</td>\n",
       "      <td>0</td>\n",
       "      <td>170</td>\n",
       "      <td>0</td>\n",
       "    </tr>\n",
       "    <tr>\n",
       "      <td>2</td>\n",
       "      <td>3</td>\n",
       "      <td>median os time update result exceed 1 year</td>\n",
       "      <td>0</td>\n",
       "      <td>0</td>\n",
       "      <td>1</td>\n",
       "      <td>57</td>\n",
       "      <td>1</td>\n",
       "    </tr>\n",
       "    <tr>\n",
       "      <td>3</td>\n",
       "      <td>4</td>\n",
       "      <td>therefore clinical benefit 2nd line treatment ...</td>\n",
       "      <td>1</td>\n",
       "      <td>0</td>\n",
       "      <td>0</td>\n",
       "      <td>161</td>\n",
       "      <td>0</td>\n",
       "    </tr>\n",
       "    <tr>\n",
       "      <td>4</td>\n",
       "      <td>5</td>\n",
       "      <td>data provide 1st line although preliminary sho...</td>\n",
       "      <td>1</td>\n",
       "      <td>0</td>\n",
       "      <td>0</td>\n",
       "      <td>247</td>\n",
       "      <td>0</td>\n",
       "    </tr>\n",
       "  </tbody>\n",
       "</table>\n",
       "</div>"
      ],
      "text/plain": [
       "   ID                                           Sentence  Positive  Negative  \\\n",
       "0   1  result 2nd line treatment show orr 33 patients...         1         0   \n",
       "1   2  long duration response high durable response r...         1         0   \n",
       "2   3         median os time update result exceed 1 year         0         0   \n",
       "3   4  therefore clinical benefit 2nd line treatment ...         1         0   \n",
       "4   5  data provide 1st line although preliminary sho...         1         0   \n",
       "\n",
       "   Neutral  sentence_length  rating  \n",
       "0        0              133       0  \n",
       "1        0              170       0  \n",
       "2        1               57       1  \n",
       "3        0              161       0  \n",
       "4        0              247       0  "
      ]
     },
     "execution_count": 198,
     "metadata": {},
     "output_type": "execute_result"
    }
   ],
   "source": [
    "feedback_data.head()"
   ]
  },
  {
   "cell_type": "code",
   "execution_count": 197,
   "metadata": {},
   "outputs": [],
   "source": [
    "feedback_data['rating'] = 0*feedback_data['Positive'] + 1*feedback_data['Neutral'] + 2*feedback_data['Negative']"
   ]
  },
  {
   "cell_type": "code",
   "execution_count": 199,
   "metadata": {},
   "outputs": [],
   "source": [
    "# Separate the Dataset into feature & target dataframes\n",
    "X = feedback_data['Sentence']\n",
    "Y = feedback_data['rating']"
   ]
  },
  {
   "cell_type": "markdown",
   "metadata": {},
   "source": [
    "## Split Test and Train Data"
   ]
  },
  {
   "cell_type": "code",
   "execution_count": 200,
   "metadata": {},
   "outputs": [],
   "source": [
    "x_train, x_test, y_train, y_test = model_selection.train_test_split(X, Y, test_size=0.15, random_state=7)"
   ]
  },
  {
   "cell_type": "code",
   "execution_count": 201,
   "metadata": {},
   "outputs": [
    {
     "name": "stdout",
     "output_type": "stream",
     "text": [
      "Count of positive class in trainig data set : 61\n",
      "Count of neutral class in trainig data set : 136\n",
      "Count of negative class in trainig data set : 0\n"
     ]
    }
   ],
   "source": [
    "print(\"Count of positive class in trainig data set :\" ,(sum(y_train==1)))\n",
    "print(\"Count of neutral class in trainig data set :\",format(sum(y_train==0)))\n",
    "print(\"Count of negative class in trainig data set :\",format(sum(y_train==-1)))"
   ]
  },
  {
   "cell_type": "code",
   "execution_count": 202,
   "metadata": {},
   "outputs": [
    {
     "name": "stdout",
     "output_type": "stream",
     "text": [
      "Count of positive class in testing data set : 9\n",
      "Count of neutral class in testing data set : 24\n",
      "Count of negative class in testing data set : 24\n"
     ]
    }
   ],
   "source": [
    "print(\"Count of positive class in testing data set :\" ,(sum(y_test==1)))\n",
    "print(\"Count of neutral class in testing data set :\",format(sum(y_test==0)))\n",
    "print(\"Count of negative class in testing data set :\",format(sum(y_test==0)))"
   ]
  },
  {
   "cell_type": "code",
   "execution_count": 204,
   "metadata": {},
   "outputs": [
    {
     "data": {
      "text/html": [
       "<div>\n",
       "<style scoped>\n",
       "    .dataframe tbody tr th:only-of-type {\n",
       "        vertical-align: middle;\n",
       "    }\n",
       "\n",
       "    .dataframe tbody tr th {\n",
       "        vertical-align: top;\n",
       "    }\n",
       "\n",
       "    .dataframe thead th {\n",
       "        text-align: right;\n",
       "    }\n",
       "</style>\n",
       "<table border=\"1\" class=\"dataframe\">\n",
       "  <thead>\n",
       "    <tr style=\"text-align: right;\">\n",
       "      <th></th>\n",
       "      <th>Sentence</th>\n",
       "    </tr>\n",
       "  </thead>\n",
       "  <tbody>\n",
       "    <tr>\n",
       "      <td>0</td>\n",
       "      <td>additional sensitivity analyse perform confirm...</td>\n",
       "    </tr>\n",
       "    <tr>\n",
       "      <td>1</td>\n",
       "      <td>rmp adequately reflect safety concern list two...</td>\n",
       "    </tr>\n",
       "    <tr>\n",
       "      <td>2</td>\n",
       "      <td>median os time update result exceed 1 year</td>\n",
       "    </tr>\n",
       "    <tr>\n",
       "      <td>3</td>\n",
       "      <td>major contribution hba1c due insulin glargine ...</td>\n",
       "    </tr>\n",
       "    <tr>\n",
       "      <td>4</td>\n",
       "      <td>clinical safety section smpc contain appropria...</td>\n",
       "    </tr>\n",
       "  </tbody>\n",
       "</table>\n",
       "</div>"
      ],
      "text/plain": [
       "                                            Sentence\n",
       "0  additional sensitivity analyse perform confirm...\n",
       "1  rmp adequately reflect safety concern list two...\n",
       "2         median os time update result exceed 1 year\n",
       "3  major contribution hba1c due insulin glargine ...\n",
       "4  clinical safety section smpc contain appropria..."
      ]
     },
     "execution_count": 204,
     "metadata": {},
     "output_type": "execute_result"
    }
   ],
   "source": [
    "# Run this cell only if we need to download the test dataset\n",
    "test = x_test.to_frame().reset_index()\n",
    "test.drop('index',axis=1,inplace=True)\n",
    "#test.to_csv(r'test_x.csv',index=False)\n",
    "test.head()"
   ]
  },
  {
   "cell_type": "code",
   "execution_count": 169,
   "metadata": {},
   "outputs": [],
   "source": [
    "pd.DataFrame(y_test).to_csv(\"test_y.csv\",index=None,header=None)"
   ]
  },
  {
   "cell_type": "code",
   "execution_count": 203,
   "metadata": {},
   "outputs": [
    {
     "data": {
      "text/plain": [
       "89     additional sensitivity analyse perform confirm...\n",
       "226    rmp adequately reflect safety concern list two...\n",
       "2             median os time update result exceed 1 year\n",
       "209    major contribution hba1c due insulin glargine ...\n",
       "251    clinical safety section smpc contain appropria...\n",
       "70     regard immunogenicity differences aia response...\n",
       "113    maintenance treatment effect year 3 4 support ...\n",
       "22     addition pk data discuss support extrapolation...\n",
       "66     study demonstrate sar342434 noninferior humalo...\n",
       "114    clinically relevant add benefit additional tre...\n",
       "253    clinical data assess nuwiq application adequat...\n",
       "166    since rolufta application inform consent incru...\n",
       "126    appropriately cover maviret smpc addition cont...\n",
       "184    current study provide evidence treatment effec...\n",
       "216               lack longterm data beyond 30 weeks frc\n",
       "239    tdi focal score third coprimary endpoint clini...\n",
       "125    risk alt elevations seem lower compare previou...\n",
       "129    concern raise procedure regard satisfactorily ...\n",
       "205    frc investigate clinical programme adequate de...\n",
       "80     ema guideline investigation bioequivalence cpm...\n",
       "65      data consider supportive establish biosimilarity\n",
       "221    adverse reaction pattern differ however aspect...\n",
       "236    since tadalafil lilly application inform conse...\n",
       "50          biowaiver 20 mg strength consider acceptable\n",
       "3      therefore clinical benefit 2nd line treatment ...\n",
       "24     overall safety profile ctp10 appear roughly si...\n",
       "57     detail data injection site reactions hypersens...\n",
       "139    objectives study ctp10 33 demonstrate similari...\n",
       "193    embrace sm202 phase 2 randomize doubleblind sh...\n",
       "222    incidences document hypoglycaemic episode comp...\n",
       "168    primary endpoint meet similarity week 24 indic...\n",
       "60     worsen immunogenicity profile observe transiti...\n",
       "78              bioequivalence study appear well conduct\n",
       "37     regard teae profile meaningful qualitative qua...\n",
       "62     light establish biosimilarity quality level re...\n",
       "141    therefore available safety data consider suppo...\n",
       "145    additional safety data maintenance study perio...\n",
       "101    study 307 request characterise safety tolerabi...\n",
       "235    observe safety profile line expectations raise...\n",
       "111    base data since relapse spms rrms patients und...\n",
       "Name: Sentence, dtype: object"
      ]
     },
     "execution_count": 203,
     "metadata": {},
     "output_type": "execute_result"
    }
   ],
   "source": [
    "x_test"
   ]
  },
  {
   "cell_type": "markdown",
   "metadata": {},
   "source": [
    "## Vectorization"
   ]
  },
  {
   "cell_type": "code",
   "execution_count": 83,
   "metadata": {},
   "outputs": [],
   "source": [
    "# word level tf-idf\n",
    "tfidf_vect = TfidfVectorizer(analyzer='word', token_pattern=r'\\w{1,}', max_features=100000)\n",
    "xtrain_tfidf =  tfidf_vect.fit_transform(x_train)\n",
    "xtest_tfidf =  tfidf_vect.transform(x_test)"
   ]
  },
  {
   "cell_type": "code",
   "execution_count": 84,
   "metadata": {},
   "outputs": [
    {
     "name": "stdout",
     "output_type": "stream",
     "text": [
      "Tfidf_train: (226, 1091)\n",
      "Tfidf_test: (40, 1091)\n"
     ]
    }
   ],
   "source": [
    "print('Tfidf_train:',xtrain_tfidf.shape)\n",
    "print('Tfidf_test:',xtest_tfidf.shape)"
   ]
  },
  {
   "cell_type": "markdown",
   "metadata": {},
   "source": [
    "## Balancing Dataset & Model selection"
   ]
  },
  {
   "cell_type": "code",
   "execution_count": 98,
   "metadata": {},
   "outputs": [],
   "source": [
    "# Return the F1 Score\n",
    "def train_model(classifier, vector_train, tgt, vector_test,alg_name):    \n",
    "    classifier.fit(vector_train, tgt)    \n",
    "    predictions = classifier.predict(vector_test)\n",
    "    print(\"****************************************************************\")\n",
    "    print(\"F1 Score of \"+ alg_name + \" Baseline, Wordlevel TFIDF:\", metrics.f1_score(y_test,predictions,average='weighted')) \n",
    "    return classification_report(y_test,predictions)"
   ]
  },
  {
   "cell_type": "code",
   "execution_count": 107,
   "metadata": {},
   "outputs": [
    {
     "name": "stdout",
     "output_type": "stream",
     "text": [
      "****************************************************************\n",
      "F1 Score of LR Baseline, Wordlevel TFIDF: 0.5871428571428571\n",
      "LR Classification Report:                precision    recall  f1-score   support\n",
      "\n",
      "           0       0.66      0.88      0.75        24\n",
      "           1       0.20      0.11      0.14         9\n",
      "           2       1.00      0.43      0.60         7\n",
      "\n",
      "    accuracy                           0.62        40\n",
      "   macro avg       0.62      0.47      0.50        40\n",
      "weighted avg       0.61      0.62      0.59        40\n",
      "\n",
      "****************************************************************\n",
      "F1 Score of SGD Baseline, Wordlevel TFIDF: 0.5871428571428571\n",
      "SGD Classification Report:                precision    recall  f1-score   support\n",
      "\n",
      "           0       0.66      0.88      0.75        24\n",
      "           1       0.20      0.11      0.14         9\n",
      "           2       1.00      0.43      0.60         7\n",
      "\n",
      "    accuracy                           0.62        40\n",
      "   macro avg       0.62      0.47      0.50        40\n",
      "weighted avg       0.61      0.62      0.59        40\n",
      "\n",
      "****************************************************************\n",
      "F1 Score of NB Baseline, Wordlevel TFIDF: 0.4499999999999999\n",
      "NB Classification Report:                precision    recall  f1-score   support\n",
      "\n",
      "           0       0.60      1.00      0.75        24\n",
      "           1       0.00      0.00      0.00         9\n",
      "           2       0.00      0.00      0.00         7\n",
      "\n",
      "    accuracy                           0.60        40\n",
      "   macro avg       0.20      0.33      0.25        40\n",
      "weighted avg       0.36      0.60      0.45        40\n",
      "\n",
      "****************************************************************\n",
      "F1 Score of KNN Baseline, Wordlevel TFIDF: 0.46451612903225803\n",
      "KNN Baseline, WordLevel TFIDF:                precision    recall  f1-score   support\n",
      "\n",
      "           0       0.63      1.00      0.77        24\n",
      "           1       0.00      0.00      0.00         9\n",
      "           2       0.00      0.00      0.00         7\n",
      "\n",
      "    accuracy                           0.60        40\n",
      "   macro avg       0.21      0.33      0.26        40\n",
      "weighted avg       0.38      0.60      0.46        40\n",
      "\n"
     ]
    },
    {
     "name": "stderr",
     "output_type": "stream",
     "text": [
      "C:\\ProgramData\\Anaconda3\\lib\\site-packages\\sklearn\\metrics\\_classification.py:1318: UndefinedMetricWarning: Precision and F-score are ill-defined and being set to 0.0 in labels with no predicted samples. Use `zero_division` parameter to control this behavior.\n",
      "  _warn_prf(average, modifier, msg_start, len(result))\n",
      "C:\\ProgramData\\Anaconda3\\lib\\site-packages\\sklearn\\metrics\\_classification.py:1318: UndefinedMetricWarning: Precision and F-score are ill-defined and being set to 0.0 in labels with no predicted samples. Use `zero_division` parameter to control this behavior.\n",
      "  _warn_prf(average, modifier, msg_start, len(result))\n",
      "C:\\ProgramData\\Anaconda3\\lib\\site-packages\\sklearn\\metrics\\_classification.py:1318: UndefinedMetricWarning: Precision and F-score are ill-defined and being set to 0.0 in labels with no predicted samples. Use `zero_division` parameter to control this behavior.\n",
      "  _warn_prf(average, modifier, msg_start, len(result))\n",
      "C:\\ProgramData\\Anaconda3\\lib\\site-packages\\sklearn\\metrics\\_classification.py:1318: UndefinedMetricWarning: Precision and F-score are ill-defined and being set to 0.0 in labels with no predicted samples. Use `zero_division` parameter to control this behavior.\n",
      "  _warn_prf(average, modifier, msg_start, len(result))\n",
      "C:\\ProgramData\\Anaconda3\\lib\\site-packages\\sklearn\\metrics\\_classification.py:1318: UndefinedMetricWarning: Precision and F-score are ill-defined and being set to 0.0 in labels with no predicted samples. Use `zero_division` parameter to control this behavior.\n",
      "  _warn_prf(average, modifier, msg_start, len(result))\n",
      "C:\\ProgramData\\Anaconda3\\lib\\site-packages\\sklearn\\metrics\\_classification.py:1318: UndefinedMetricWarning: Precision and F-score are ill-defined and being set to 0.0 in labels with no predicted samples. Use `zero_division` parameter to control this behavior.\n",
      "  _warn_prf(average, modifier, msg_start, len(result))\n",
      "[Parallel(n_jobs=1)]: Using backend SequentialBackend with 1 concurrent workers.\n",
      "[Parallel(n_jobs=1)]: Done 100 out of 100 | elapsed:    0.0s finished\n",
      "[Parallel(n_jobs=1)]: Using backend SequentialBackend with 1 concurrent workers.\n",
      "[Parallel(n_jobs=1)]: Done 100 out of 100 | elapsed:    0.0s finished\n",
      "C:\\ProgramData\\Anaconda3\\lib\\site-packages\\xgboost\\sklearn.py:1224: UserWarning: The use of label encoder in XGBClassifier is deprecated and will be removed in a future release. To remove this warning, do the following: 1) Pass option use_label_encoder=False when constructing XGBClassifier object; and 2) Encode your labels (y) as integers starting with 0, i.e. 0, 1, 2, ..., [num_class - 1].\n",
      "  warnings.warn(label_encoder_deprecation_msg, UserWarning)\n"
     ]
    },
    {
     "name": "stdout",
     "output_type": "stream",
     "text": [
      "****************************************************************\n",
      "F1 Score of RF Baseline, Wordlevel TFIDF: 0.5949089253187614\n",
      "RF Baseline, WordLevel TFIDF:                precision    recall  f1-score   support\n",
      "\n",
      "           0       0.65      1.00      0.79        24\n",
      "           1       1.00      0.11      0.20         9\n",
      "           2       1.00      0.29      0.44         7\n",
      "\n",
      "    accuracy                           0.68        40\n",
      "   macro avg       0.88      0.47      0.48        40\n",
      "weighted avg       0.79      0.68      0.59        40\n",
      "\n",
      "[15:11:10] WARNING: C:/Users/Administrator/workspace/xgboost-win64_release_1.5.1/src/learner.cc:1115: Starting in XGBoost 1.3.0, the default evaluation metric used with the objective 'multi:softprob' was changed from 'merror' to 'mlogloss'. Explicitly set eval_metric if you'd like to restore the old behavior.\n",
      "****************************************************************\n",
      "F1 Score of XGB Baseline, Wordlevel TFIDF: 0.5922095959595959\n",
      "XGB Baseline, WordLevel TFIDF:                precision    recall  f1-score   support\n",
      "\n",
      "           0       0.68      0.88      0.76        24\n",
      "           1       0.29      0.22      0.25         9\n",
      "           2       1.00      0.29      0.44         7\n",
      "\n",
      "    accuracy                           0.62        40\n",
      "   macro avg       0.65      0.46      0.49        40\n",
      "weighted avg       0.65      0.62      0.59        40\n",
      "\n"
     ]
    }
   ],
   "source": [
    "# Logistic Regression\n",
    "Pred = train_model(LogisticRegression(random_state=0,multi_class='multinomial',n_jobs=1, C=1e5),xtrain_tfidf, y_train, xtest_tfidf,'LR')\n",
    "print (\"LR Classification Report: \", Pred)\n",
    "\n",
    "# Support Vector classification\n",
    "Pred = train_model(SGDClassifier(loss='hinge', penalty='l2',alpha=1e-3, random_state=42, max_iter=5, tol=None), xtrain_tfidf, y_train, xtest_tfidf,'SGD')\n",
    "print (\"SGD Classification Report: \", Pred)\n",
    "\n",
    "# Decision Tree classifier\n",
    "Pred = train_model(MultinomialNB(), xtrain_tfidf, y_train, xtest_tfidf,'NB')\n",
    "print (\"NB Classification Report: \", Pred)\n",
    "\n",
    "Pred = train_model(KNeighborsClassifier(n_neighbors=10),xtrain_tfidf, y_train, xtest_tfidf,'KNN')\n",
    "print (\"KNN Baseline, WordLevel TFIDF: \", Pred)\n",
    "\n",
    "Pred = train_model(RandomForestClassifier(n_jobs=None,random_state=27,verbose=1),xtrain_tfidf, y_train, xtest_tfidf,'RF')\n",
    "print (\"RF Baseline, WordLevel TFIDF: \", Pred)\n",
    "\n",
    "Pred = train_model(XGBClassifier(learning_rate=0.1,n_estimators = 100,objective='multi:softmax'),xtrain_tfidf, y_train, xtest_tfidf,'XGB')\n",
    "print (\"XGB Baseline, WordLevel TFIDF: \", Pred) \n",
    "\n"
   ]
  },
  {
   "cell_type": "code",
   "execution_count": 106,
   "metadata": {},
   "outputs": [
    {
     "name": "stdout",
     "output_type": "stream",
     "text": [
      "****************************************************************\n",
      "F1 Score of LR Baseline, Wordlevel TFIDF: 0.5957792207792207\n",
      "LR Classification Report:                precision    recall  f1-score   support\n",
      "\n",
      "           0       0.65      0.83      0.73        24\n",
      "           1       0.20      0.11      0.14         9\n",
      "           2       1.00      0.57      0.73         7\n",
      "\n",
      "    accuracy                           0.62        40\n",
      "   macro avg       0.62      0.51      0.53        40\n",
      "weighted avg       0.61      0.62      0.60        40\n",
      "\n",
      "****************************************************************\n",
      "F1 Score of SGD Baseline, Wordlevel TFIDF: 0.6317171717171717\n",
      "SGD Classification Report:                precision    recall  f1-score   support\n",
      "\n",
      "           0       0.67      0.83      0.74        24\n",
      "           1       0.33      0.22      0.27         9\n",
      "           2       1.00      0.57      0.73         7\n",
      "\n",
      "    accuracy                           0.65        40\n",
      "   macro avg       0.67      0.54      0.58        40\n",
      "weighted avg       0.65      0.65      0.63        40\n",
      "\n",
      "****************************************************************\n",
      "F1 Score of NB Baseline, Wordlevel TFIDF: 0.632391304347826\n",
      "NB Classification Report:                precision    recall  f1-score   support\n",
      "\n",
      "           0       0.73      0.67      0.70        24\n",
      "           1       0.36      0.44      0.40         9\n",
      "           2       0.71      0.71      0.71         7\n",
      "\n",
      "    accuracy                           0.62        40\n",
      "   macro avg       0.60      0.61      0.60        40\n",
      "weighted avg       0.64      0.62      0.63        40\n",
      "\n",
      "****************************************************************\n",
      "F1 Score of KNN Baseline, Wordlevel TFIDF: 0.5630506155950752\n",
      "KNN Baseline, WordLevel TFIDF:                precision    recall  f1-score   support\n",
      "\n",
      "           0       0.74      0.58      0.65        24\n",
      "           1       0.36      0.44      0.40         9\n",
      "           2       0.40      0.57      0.47         7\n",
      "\n",
      "    accuracy                           0.55        40\n",
      "   macro avg       0.50      0.53      0.51        40\n",
      "weighted avg       0.59      0.55      0.56        40\n",
      "\n"
     ]
    },
    {
     "name": "stderr",
     "output_type": "stream",
     "text": [
      "[Parallel(n_jobs=1)]: Using backend SequentialBackend with 1 concurrent workers.\n",
      "[Parallel(n_jobs=1)]: Done 100 out of 100 | elapsed:    0.0s finished\n",
      "[Parallel(n_jobs=1)]: Using backend SequentialBackend with 1 concurrent workers.\n",
      "[Parallel(n_jobs=1)]: Done 100 out of 100 | elapsed:    0.0s finished\n"
     ]
    },
    {
     "name": "stdout",
     "output_type": "stream",
     "text": [
      "****************************************************************\n",
      "F1 Score of RF Baseline, Wordlevel TFIDF: 0.6373642439431914\n",
      "RF Baseline, WordLevel TFIDF:                precision    recall  f1-score   support\n",
      "\n",
      "           0       0.67      0.92      0.77        24\n",
      "           1       0.60      0.33      0.43         9\n",
      "           2       1.00      0.29      0.44         7\n",
      "\n",
      "    accuracy                           0.68        40\n",
      "   macro avg       0.76      0.51      0.55        40\n",
      "weighted avg       0.71      0.68      0.64        40\n",
      "\n",
      "[15:10:50] WARNING: C:/Users/Administrator/workspace/xgboost-win64_release_1.5.1/src/learner.cc:1115: Starting in XGBoost 1.3.0, the default evaluation metric used with the objective 'multi:softprob' was changed from 'merror' to 'mlogloss'. Explicitly set eval_metric if you'd like to restore the old behavior.\n",
      "****************************************************************\n",
      "F1 Score of XGB Baseline, Wordlevel TFIDF: 0.6056079664570231\n",
      "XGB Baseline, WordLevel TFIDF:                precision    recall  f1-score   support\n",
      "\n",
      "           0       0.69      0.83      0.75        24\n",
      "           1       0.33      0.33      0.33         9\n",
      "           2       1.00      0.29      0.44         7\n",
      "\n",
      "    accuracy                           0.62        40\n",
      "   macro avg       0.67      0.48      0.51        40\n",
      "weighted avg       0.66      0.62      0.61        40\n",
      "\n"
     ]
    }
   ],
   "source": [
    "# Random Over Sampling\n",
    "ros = RandomOverSampler(random_state=777)\n",
    "ros_xtrain_tfidf, ros_train_y = ros.fit_resample(xtrain_tfidf, y_train)\n",
    "\n",
    "# Logistic Regression\n",
    "ros = train_model(LogisticRegression(random_state=0,multi_class='multinomial',n_jobs=1, C=1e5),ros_xtrain_tfidf, ros_train_y, xtest_tfidf,'LR')\n",
    "print (\"LR Classification Report: \", ros)\n",
    "\n",
    "# Support Vector classification\n",
    "ros = train_model(SGDClassifier(loss='hinge', penalty='l2',alpha=1e-3, random_state=42, max_iter=5, tol=None), ros_xtrain_tfidf, ros_train_y, xtest_tfidf,'SGD')\n",
    "print (\"SGD Classification Report: \", ros)\n",
    "\n",
    "# Decision Tree classifier\n",
    "ros = train_model(MultinomialNB(), ros_xtrain_tfidf, ros_train_y, xtest_tfidf,'NB')\n",
    "print (\"NB Classification Report: \", ros)\n",
    "\n",
    "ros = train_model(KNeighborsClassifier(n_neighbors=10),ros_xtrain_tfidf, ros_train_y, xtest_tfidf,'KNN')\n",
    "print (\"KNN Baseline, WordLevel TFIDF: \", ros)\n",
    "\n",
    "ros = train_model(RandomForestClassifier(n_jobs=None,random_state=27,verbose=1),ros_xtrain_tfidf, ros_train_y, xtest_tfidf,'RF')\n",
    "print (\"RF Baseline, WordLevel TFIDF: \", ros)\n",
    "\n",
    "ros = train_model(XGBClassifier(learning_rate=0.1,n_estimators = 100,objective='multi:softmax',use_label_encoder =False),ros_xtrain_tfidf, ros_train_y, xtest_tfidf,'XGB')\n",
    "print (\"XGB Baseline, WordLevel TFIDF: \", ros) "
   ]
  },
  {
   "cell_type": "code",
   "execution_count": 105,
   "metadata": {},
   "outputs": [
    {
     "name": "stdout",
     "output_type": "stream",
     "text": [
      "****************************************************************\n",
      "F1 Score of LR Baseline, Wordlevel TFIDF: 0.6092348608837971\n",
      "LR Classification Report:                precision    recall  f1-score   support\n",
      "\n",
      "           0       0.74      0.71      0.72        24\n",
      "           1       0.27      0.33      0.30         9\n",
      "           2       0.67      0.57      0.62         7\n",
      "\n",
      "    accuracy                           0.60        40\n",
      "   macro avg       0.56      0.54      0.55        40\n",
      "weighted avg       0.62      0.60      0.61        40\n",
      "\n",
      "****************************************************************\n",
      "F1 Score of SGD Baseline, Wordlevel TFIDF: 0.5963587296620776\n",
      "SGD Classification Report:                precision    recall  f1-score   support\n",
      "\n",
      "           0       0.74      0.71      0.72        24\n",
      "           1       0.25      0.22      0.24         9\n",
      "           2       0.56      0.71      0.63         7\n",
      "\n",
      "    accuracy                           0.60        40\n",
      "   macro avg       0.51      0.55      0.53        40\n",
      "weighted avg       0.60      0.60      0.60        40\n",
      "\n",
      "****************************************************************\n",
      "F1 Score of NB Baseline, Wordlevel TFIDF: 0.5793650793650793\n",
      "NB Classification Report:                precision    recall  f1-score   support\n",
      "\n",
      "           0       0.75      0.75      0.75        24\n",
      "           1       0.20      0.11      0.14         9\n",
      "           2       0.45      0.71      0.56         7\n",
      "\n",
      "    accuracy                           0.60        40\n",
      "   macro avg       0.47      0.53      0.48        40\n",
      "weighted avg       0.57      0.60      0.58        40\n",
      "\n",
      "****************************************************************\n",
      "F1 Score of KNN Baseline, Wordlevel TFIDF: 0.5092752485609628\n",
      "KNN Baseline, WordLevel TFIDF:                precision    recall  f1-score   support\n",
      "\n",
      "           0       0.68      0.71      0.69        24\n",
      "           1       0.25      0.11      0.15         9\n",
      "           2       0.27      0.43      0.33         7\n",
      "\n",
      "    accuracy                           0.53        40\n",
      "   macro avg       0.40      0.42      0.39        40\n",
      "weighted avg       0.51      0.53      0.51        40\n",
      "\n",
      "****************************************************************\n",
      "F1 Score of RF Baseline, Wordlevel TFIDF: 0.5265109890109889\n",
      "RF Baseline, WordLevel TFIDF:                precision    recall  f1-score   support\n",
      "\n",
      "           0       0.73      0.46      0.56        24\n",
      "           1       0.26      0.56      0.36         9\n",
      "           2       0.67      0.57      0.62         7\n",
      "\n",
      "    accuracy                           0.50        40\n",
      "   macro avg       0.55      0.53      0.51        40\n",
      "weighted avg       0.62      0.50      0.53        40\n",
      "\n",
      "[15:10:40] WARNING: C:/Users/Administrator/workspace/xgboost-win64_release_1.5.1/src/learner.cc:1115: Starting in XGBoost 1.3.0, the default evaluation metric used with the objective 'multi:softprob' was changed from 'merror' to 'mlogloss'. Explicitly set eval_metric if you'd like to restore the old behavior."
     ]
    },
    {
     "name": "stderr",
     "output_type": "stream",
     "text": [
      "[Parallel(n_jobs=1)]: Using backend SequentialBackend with 1 concurrent workers.\n",
      "[Parallel(n_jobs=1)]: Done 100 out of 100 | elapsed:    0.0s finished\n",
      "[Parallel(n_jobs=1)]: Using backend SequentialBackend with 1 concurrent workers.\n",
      "[Parallel(n_jobs=1)]: Done 100 out of 100 | elapsed:    0.0s finished\n"
     ]
    },
    {
     "name": "stdout",
     "output_type": "stream",
     "text": [
      "\n",
      "****************************************************************\n",
      "F1 Score of XGB Baseline, Wordlevel TFIDF: 0.47085576923076927\n",
      "XGB Baseline, WordLevel TFIDF:                precision    recall  f1-score   support\n",
      "\n",
      "           0       0.80      0.50      0.62        24\n",
      "           1       0.12      0.22      0.16         9\n",
      "           2       0.33      0.43      0.38         7\n",
      "\n",
      "    accuracy                           0.42        40\n",
      "   macro avg       0.42      0.38      0.38        40\n",
      "weighted avg       0.57      0.42      0.47        40\n",
      "\n"
     ]
    }
   ],
   "source": [
    "# Random Under Sampling\n",
    "rus = RandomUnderSampler(random_state=777)\n",
    "rus_xtrain_tfidf, rus_train_y = rus.fit_resample(xtrain_tfidf, y_train)\n",
    "\n",
    "# Logistic Regression\n",
    "rus = train_model(LogisticRegression(random_state=0,multi_class='multinomial',n_jobs=1, C=1e5),rus_xtrain_tfidf, rus_train_y, xtest_tfidf,'LR')\n",
    "print (\"LR Classification Report: \", rus)\n",
    "\n",
    "# Support Vector classification\n",
    "rus = train_model(SGDClassifier(loss='hinge', penalty='l2',alpha=1e-3, random_state=42, max_iter=5, tol=None), rus_xtrain_tfidf, rus_train_y, xtest_tfidf,'SGD')\n",
    "print (\"SGD Classification Report: \", rus)\n",
    "\n",
    "# Decision Tree classifier\n",
    "rus = train_model(MultinomialNB(), rus_xtrain_tfidf, rus_train_y, xtest_tfidf,'NB')\n",
    "print (\"NB Classification Report: \", rus)\n",
    "\n",
    "rus = train_model(KNeighborsClassifier(n_neighbors=10),rus_xtrain_tfidf, rus_train_y, xtest_tfidf,'KNN')\n",
    "print (\"KNN Baseline, WordLevel TFIDF: \", rus)\n",
    "\n",
    "rus = train_model(RandomForestClassifier(n_jobs=None,random_state=27,verbose=1),rus_xtrain_tfidf, rus_train_y, xtest_tfidf,'RF')\n",
    "print (\"RF Baseline, WordLevel TFIDF: \", rus)\n",
    "\n",
    "rus = train_model(XGBClassifier(learning_rate=0.1,n_estimators = 100,objective='multi:softmax',use_label_encoder =False),rus_xtrain_tfidf, rus_train_y, xtest_tfidf,'XGB')\n",
    "print (\"XGB Baseline, WordLevel TFIDF: \", rus) "
   ]
  },
  {
   "cell_type": "code",
   "execution_count": 104,
   "metadata": {},
   "outputs": [
    {
     "name": "stdout",
     "output_type": "stream",
     "text": [
      "****************************************************************\n",
      "F1 Score of LR Baseline, Wordlevel TFIDF: 0.5871428571428571\n",
      "LR Classification Report:                precision    recall  f1-score   support\n",
      "\n",
      "           0       0.66      0.88      0.75        24\n",
      "           1       0.20      0.11      0.14         9\n",
      "           2       1.00      0.43      0.60         7\n",
      "\n",
      "    accuracy                           0.62        40\n",
      "   macro avg       0.62      0.47      0.50        40\n",
      "weighted avg       0.61      0.62      0.59        40\n",
      "\n",
      "****************************************************************\n",
      "F1 Score of SGD Baseline, Wordlevel TFIDF: 0.6118881118881119\n",
      "SGD Classification Report:                precision    recall  f1-score   support\n",
      "\n",
      "           0       0.66      0.88      0.75        24\n",
      "           1       0.25      0.11      0.15         9\n",
      "           2       1.00      0.57      0.73         7\n",
      "\n",
      "    accuracy                           0.65        40\n",
      "   macro avg       0.64      0.52      0.54        40\n",
      "weighted avg       0.62      0.65      0.61        40\n",
      "\n",
      "****************************************************************\n",
      "F1 Score of NB Baseline, Wordlevel TFIDF: 0.6187575030012005\n",
      "NB Classification Report:                precision    recall  f1-score   support\n",
      "\n",
      "           0       0.72      0.75      0.73        24\n",
      "           1       0.25      0.22      0.24         9\n",
      "           2       0.71      0.71      0.71         7\n",
      "\n",
      "    accuracy                           0.62        40\n",
      "   macro avg       0.56      0.56      0.56        40\n",
      "weighted avg       0.61      0.62      0.62        40\n",
      "\n",
      "****************************************************************\n",
      "F1 Score of KNN Baseline, Wordlevel TFIDF: 0.26199712643678164\n",
      "KNN Baseline, WordLevel TFIDF:                precision    recall  f1-score   support\n",
      "\n",
      "           0       1.00      0.12      0.22        24\n",
      "           1       0.20      0.33      0.25         9\n",
      "           2       0.27      0.86      0.41         7\n",
      "\n",
      "    accuracy                           0.30        40\n",
      "   macro avg       0.49      0.44      0.30        40\n",
      "weighted avg       0.69      0.30      0.26        40\n",
      "\n"
     ]
    },
    {
     "name": "stderr",
     "output_type": "stream",
     "text": [
      "[Parallel(n_jobs=1)]: Using backend SequentialBackend with 1 concurrent workers.\n",
      "[Parallel(n_jobs=1)]: Done 100 out of 100 | elapsed:    0.0s finished\n",
      "[Parallel(n_jobs=1)]: Using backend SequentialBackend with 1 concurrent workers.\n",
      "[Parallel(n_jobs=1)]: Done 100 out of 100 | elapsed:    0.0s finished\n"
     ]
    },
    {
     "name": "stdout",
     "output_type": "stream",
     "text": [
      "****************************************************************\n",
      "F1 Score of RF Baseline, Wordlevel TFIDF: 0.6205743879472693\n",
      "RF Baseline, WordLevel TFIDF:                precision    recall  f1-score   support\n",
      "\n",
      "           0       0.66      0.96      0.78        24\n",
      "           1       0.67      0.22      0.33         9\n",
      "           2       1.00      0.29      0.44         7\n",
      "\n",
      "    accuracy                           0.68        40\n",
      "   macro avg       0.77      0.49      0.52        40\n",
      "weighted avg       0.72      0.68      0.62        40\n",
      "\n",
      "[15:10:29] WARNING: C:/Users/Administrator/workspace/xgboost-win64_release_1.5.1/src/learner.cc:1115: Starting in XGBoost 1.3.0, the default evaluation metric used with the objective 'multi:softprob' was changed from 'merror' to 'mlogloss'. Explicitly set eval_metric if you'd like to restore the old behavior.\n",
      "****************************************************************\n",
      "F1 Score of XGB Baseline, Wordlevel TFIDF: 0.6052213868003341\n",
      "XGB Baseline, WordLevel TFIDF:                precision    recall  f1-score   support\n",
      "\n",
      "           0       0.67      0.92      0.77        24\n",
      "           1       0.40      0.22      0.29         9\n",
      "           2       1.00      0.29      0.44         7\n",
      "\n",
      "    accuracy                           0.65        40\n",
      "   macro avg       0.69      0.47      0.50        40\n",
      "weighted avg       0.67      0.65      0.61        40\n",
      "\n"
     ]
    }
   ],
   "source": [
    "# SMOTE(Synthetic Minority Oversampling Technique)\n",
    "smote = SMOTE(k_neighbors = 3, random_state=1)   \n",
    "smot_train_tfidf, smot_train_y = smote.fit_resample(xtrain_tfidf, y_train)\n",
    "\n",
    "# Logistic Regression\n",
    "smot = train_model(LogisticRegression(random_state=0,multi_class='multinomial',n_jobs=1, C=1e5),smot_train_tfidf, smot_train_y, xtest_tfidf,'LR')\n",
    "print (\"LR Classification Report: \", smot)\n",
    "\n",
    "# Support Vector classification\n",
    "smot = train_model(SGDClassifier(loss='hinge', penalty='l2',alpha=1e-3, random_state=42, max_iter=5, tol=None), smot_train_tfidf, smot_train_y, xtest_tfidf,'SGD')\n",
    "print (\"SGD Classification Report: \", smot)\n",
    "\n",
    "# Decision Tree classifier\n",
    "smot = train_model(MultinomialNB(), smot_train_tfidf, smot_train_y, xtest_tfidf,'NB')\n",
    "print (\"NB Classification Report: \", smot)\n",
    "\n",
    "smot = train_model(KNeighborsClassifier(n_neighbors=10),smot_train_tfidf, smot_train_y, xtest_tfidf,'KNN')\n",
    "print (\"KNN Baseline, WordLevel TFIDF: \", smot)\n",
    "\n",
    "smot = train_model(RandomForestClassifier(n_jobs=None,random_state=27,verbose=1),smot_train_tfidf, smot_train_y, xtest_tfidf,'RF')\n",
    "print (\"RF Baseline, WordLevel TFIDF: \", smot)\n",
    "\n",
    "smot = train_model(XGBClassifier(learning_rate=0.1,n_estimators = 100,objective='multi:softmax',use_label_encoder =False),smot_train_tfidf, smot_train_y, xtest_tfidf,'XGB')\n",
    "print (\"XGB Baseline, WordLevel TFIDF: \", smot) "
   ]
  },
  {
   "cell_type": "code",
   "execution_count": 104,
   "metadata": {},
   "outputs": [
    {
     "data": {
      "image/png": "[encoded data removed]",
      "text/plain": [
       "<Figure size 936x576 with 1 Axes>"
      ]
     },
     "metadata": {},
     "output_type": "display_data"
    }
   ],
   "source": [
    " error_rate=[]\n",
    " for i in range(1,20):\n",
    "     knn = KNeighborsClassifier(n_neighbors=i)\n",
    "     model = knn.fit(xtrain_tfidf,y_train)\n",
    "     pred_i = knn.predict(xtest_tfidf)\n",
    "     error_rate.append(np.mean(pred_i != y_test))\n",
    " plt.figure(figsize=(13,8))\n",
    " plt.plot(range(1,20), error_rate, linestyle = 'dotted', marker = 'o',color = 'g')\n",
    " plt.xlabel('K value')\n",
    " plt.ylabel('Error Rate')\n",
    " plt.title('K value Vs Error Rate')\n",
    " plt.show() \n"
   ]
  },
  {
   "cell_type": "markdown",
   "metadata": {},
   "source": [
    "## Hyperparameter Tuning"
   ]
  },
  {
   "cell_type": "code",
   "execution_count": 108,
   "metadata": {},
   "outputs": [
    {
     "name": "stdout",
     "output_type": "stream",
     "text": [
      "Fitting 5 folds for each of 40 candidates, totalling 200 fits\n"
     ]
    },
    {
     "name": "stderr",
     "output_type": "stream",
     "text": [
      "[Parallel(n_jobs=1)]: Using backend SequentialBackend with 1 concurrent workers.\n",
      "[Parallel(n_jobs=1)]: Done 100 out of 100 | elapsed:    0.1s finished\n"
     ]
    },
    {
     "data": {
      "text/plain": [
       "GridSearchCV(cv=5, estimator=RandomForestClassifier(random_state=27, verbose=1),\n",
       "             n_jobs=-1,\n",
       "             param_grid={'criterion': ['gini'], 'max_depth': [8, 9, 10, 11, 12],\n",
       "                         'max_features': ['auto'],\n",
       "                         'n_estimators': range(100, 500, 50)},\n",
       "             scoring='f1_micro', verbose=10)"
      ]
     },
     "execution_count": 108,
     "metadata": {},
     "output_type": "execute_result"
    }
   ],
   "source": [
    "# Set the parameters\n",
    "params = {'n_estimators':range(100,500,50),'max_depth':[8, 9, 10, 11, 12],'max_features':['auto'],'criterion' :['gini']}\n",
    "\n",
    "# Run Grid Search against different input Parameters\n",
    "rf = RandomForestClassifier(n_jobs=None,random_state=27,verbose=1)\n",
    "rf_grid = model_selection.GridSearchCV(estimator = rf, param_grid = params, scoring='f1_micro',n_jobs=-1,verbose = 10, cv=5)\n",
    "rf_grid.fit(smot_train_tfidf, smot_train_y)\n"
   ]
  },
  {
   "cell_type": "code",
   "execution_count": 109,
   "metadata": {},
   "outputs": [
    {
     "name": "stdout",
     "output_type": "stream",
     "text": [
      "{'criterion': 'gini', 'max_depth': 10, 'max_features': 'auto', 'n_estimators': 100}\n",
      "RandomForestClassifier(max_depth=10, random_state=27, verbose=1)\n"
     ]
    }
   ],
   "source": [
    "# Grid Search gives the best parameters for the model \n",
    "print(rf_grid.best_params_)\n",
    "print(rf_grid.best_estimator_)"
   ]
  },
  {
   "cell_type": "markdown",
   "metadata": {},
   "source": [
    "## Final Model"
   ]
  },
  {
   "cell_type": "code",
   "execution_count": 181,
   "metadata": {},
   "outputs": [],
   "source": [
    "# Identified algorithms with their parameters\n",
    "tfidf = TfidfVectorizer(analyzer='word', token_pattern=r'\\w{1,}', max_features=100000)\n",
    "smote = SMOTE(k_neighbors = 3, random_state=1)   \n",
    "rf = RandomForestClassifier(random_state=27,verbose=1,n_jobs=None)"
   ]
  },
  {
   "cell_type": "code",
   "execution_count": 182,
   "metadata": {},
   "outputs": [],
   "source": [
    "# Create an imblearn pipeline\n",
    "pipe = make_pipeline(tfidf,smote, rf)"
   ]
  },
  {
   "cell_type": "code",
   "execution_count": 183,
   "metadata": {},
   "outputs": [
    {
     "name": "stderr",
     "output_type": "stream",
     "text": [
      "[Parallel(n_jobs=1)]: Using backend SequentialBackend with 1 concurrent workers.\n",
      "[Parallel(n_jobs=1)]: Done 100 out of 100 | elapsed:    0.0s finished\n"
     ]
    },
    {
     "data": {
      "text/plain": [
       "Pipeline(steps=[('tfidfvectorizer',\n",
       "                 TfidfVectorizer(max_features=100000, token_pattern='\\\\w{1,}')),\n",
       "                ('smote', SMOTE(k_neighbors=3, random_state=1)),\n",
       "                ('randomforestclassifier',\n",
       "                 RandomForestClassifier(random_state=27, verbose=1))])"
      ]
     },
     "execution_count": 183,
     "metadata": {},
     "output_type": "execute_result"
    }
   ],
   "source": [
    "# Fit the data against the pipeline\n",
    "model = pipe.fit(x_train, y_train)\n",
    "model"
   ]
  },
  {
   "cell_type": "code",
   "execution_count": 184,
   "metadata": {},
   "outputs": [],
   "source": [
    "# Create the pickle file\n",
    "pickle.dump(model, open('multi_classifier.pkl', 'wb'))"
   ]
  },
  {
   "cell_type": "markdown",
   "metadata": {},
   "source": [
    "## Evaluation metrics"
   ]
  },
  {
   "cell_type": "code",
   "execution_count": 205,
   "metadata": {},
   "outputs": [
    {
     "name": "stdout",
     "output_type": "stream",
     "text": [
      "[0 0 0 0 0 0 0 0 0 0 0 0 0 0 0 0 0 0 0 0 0 0 0 0 0 1 0 0 0 0 0 0 0 0 0 0 0\n",
      " 0 0 0]\n"
     ]
    },
    {
     "name": "stderr",
     "output_type": "stream",
     "text": [
      "[Parallel(n_jobs=1)]: Using backend SequentialBackend with 1 concurrent workers.\n",
      "[Parallel(n_jobs=1)]: Done 100 out of 100 | elapsed:    0.0s finished\n"
     ]
    }
   ],
   "source": [
    "# Predicting the pipeline for test features\n",
    "rf_predict=model.predict(x_test)\n",
    "print(rf_predict)"
   ]
  },
  {
   "cell_type": "code",
   "execution_count": 160,
   "metadata": {},
   "outputs": [
    {
     "name": "stdout",
     "output_type": "stream",
     "text": [
      "RF Accuracy Score : 0.675\n",
      "RF Precision Score : 0.7192857142857143\n",
      "RF Recall Score : 0.675\n",
      "RF F1 Score : 0.6205743879472693\n"
     ]
    }
   ],
   "source": [
    "# Metrics from the pipeline\n",
    "rf_accuracy=accuracy_score(y_test,rf_predict)\n",
    "print(\"RF Accuracy Score :\",rf_accuracy)\n",
    "\n",
    "rf_precision=precision_score(y_test,rf_predict,average='weighted')\n",
    "print(\"RF Precision Score :\",rf_precision)\n",
    "\n",
    "rf_recall=recall_score(y_test,rf_predict,average='weighted')\n",
    "print(\"RF Recall Score :\",rf_recall)\n",
    "\n",
    "rf_f1=f1_score(y_test,rf_predict,average='weighted')\n",
    "print(\"RF F1 Score :\",rf_f1)"
   ]
  },
  {
   "cell_type": "code",
   "execution_count": 161,
   "metadata": {},
   "outputs": [
    {
     "data": {
      "image/png": "[encoded data removed]",
      "text/plain": [
       "<Figure size 540x540 with 1 Axes>"
      ]
     },
     "metadata": {},
     "output_type": "display_data"
    }
   ],
   "source": [
    "# Calculate the confusion matrix\n",
    "\n",
    "conf_matrix = confusion_matrix(y_true=y_test, y_pred=rf_predict)\n",
    "\n",
    "# Print the confusion matrix using Matplotlib\n",
    "\n",
    "fig, ax = plt.subplots(figsize=(7.5, 7.5))\n",
    "ax.matshow(conf_matrix, cmap=plt.cm.Blues, alpha=0.3)\n",
    "for i in range(conf_matrix.shape[0]):\n",
    "    for j in range(conf_matrix.shape[1]):\n",
    "        ax.text(x=j, y=i,s=conf_matrix[i, j], va='center', ha='center', size='xx-large')\n",
    " \n",
    "plt.xlabel('Predictions', fontsize=18)\n",
    "plt.ylabel('Actuals', fontsize=18)\n",
    "plt.title('Confusion Matrix', fontsize=18)\n",
    "plt.show()"
   ]
  },
  {
   "cell_type": "code",
   "execution_count": null,
   "metadata": {},
   "outputs": [],
   "source": [
    "model"
   ]
  }
 ],
 "metadata": {
  "interpreter": {
   "hash": "b3ba2566441a7c06988d0923437866b63cedc61552a5af99d1f4fb67d367b25f"
  },
  "kernelspec": {
   "display_name": "Python 3",
   "language": "python",
   "name": "python3"
  },
  "language_info": {
   "codemirror_mode": {
    "name": "ipython",
    "version": 3
   },
   "file_extension": ".py",
   "mimetype": "text/x-python",
   "name": "python",
   "nbconvert_exporter": "python",
   "pygments_lexer": "ipython3",
   "version": "3.7.4"
  }
 },
 "nbformat": 4,
 "nbformat_minor": 2
}
